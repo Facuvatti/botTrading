{
 "cells": [
  {
   "cell_type": "code",
   "execution_count": 1,
   "id": "e049c8a4",
   "metadata": {},
   "outputs": [],
   "source": [
    "import pandas as pd\n",
    "\n",
    "df = pd.read_csv(\n",
    "    \"BTCUSD_Daily_OHLC.csv\",    \n",
    "    usecols=['timestamp', 'open', 'high', 'low', 'close', 'volume','trades'],\n",
    "    dtype={'open': float, 'high': float, 'low': float, 'close': float, 'volume': float, 'trades': int}\n",
    ")\n",
    "df[\"timestamp\"] = pd.to_datetime(df[\"timestamp\"], unit=\"s\")\n",
    "df.set_index('timestamp', inplace=True)\n",
    "ohlcv_df = df.copy()\n"
   ]
  },
  {
   "cell_type": "code",
   "execution_count": null,
   "id": "eadf4ce8",
   "metadata": {},
   "outputs": [],
   "source": [
    "from candlestick import candlestick\n",
    "def candle_pattern(function :str, df : pd.DataFrame) -> pd.Series:\n",
    "    target=function\n",
    "    function = getattr(candlestick, function)\n",
    "    trend = function(df,ohlc=['open', 'high', 'low', 'close'],target=target)\n",
    "    trend = trend[target].astype('bool').fillna(False).astype(int)\n",
    "    return trend\n",
    "def candle_trend_timestamp(weight_pattern,df)-> pd.Series:\n",
    "    trends = pd.DataFrame()\n",
    "    for pattern, weight in weight_pattern.items():\n",
    "        trend = candle_pattern(pattern,df)\n",
    "        if not trend.empty:\n",
    "            trends[pattern] = trend * weight\n",
    "    trend_bycandels = trends.sum(axis=1).reset_index(drop=True)\n",
    "    return trend_bycandels\n",
    "functions = dir(candlestick)\n",
    "functions = [element for element in functions if not str(element).startswith('__')]\n",
    "functions.remove(\"re\")\n",
    "weight_pattern = dict.fromkeys(functions)\n",
    "weights = [1,2,3,1,2,3,1,2,3,1,2,3,1,2,3,1,2,3,1,2]\n",
    "\n",
    "if len(weights) == len(weight_pattern):\n",
    "    keys = list(weight_pattern.keys())  # Obtener las claves como lista\n",
    "    for i, key in enumerate(keys):\n",
    "        weight_pattern[key] = weights[i]\n",
    "trend_bycandels = candle_trend_timestamp(weight_pattern,df)\n",
    "print(trend_bycandels)\n",
    "\n"
   ]
  },
  {
   "cell_type": "code",
   "execution_count": null,
   "id": "449ae659",
   "metadata": {},
   "outputs": [],
   "source": [
    "\n",
    "# import plotly.graph_objects as go\n",
    "\n",
    "# fig = go.Figure(data=[\n",
    "#     go.Candlestick(\n",
    "#         x=ohlcv_df.index,\n",
    "#         open=ohlcv_df['open'],\n",
    "#         high=ohlcv_df['high'],\n",
    "#         low=ohlcv_df['low'],\n",
    "#         close=ohlcv_df['close'],\n",
    "#         name=\"Velas\"\n",
    "#     )\n",
    "# ])\n",
    "\n",
    "# fig.update_layout(\n",
    "#     title=\"Gráfico de Velas Interactivo\",\n",
    "#     xaxis_title=\"Tiempo\",\n",
    "#     yaxis_title=\"Precio\",\n",
    "#     yaxis=dict(\n",
    "#         fixedrange=False  # ⬅️ Esto permite zoom dinámico vertical\n",
    "#     ),\n",
    "#     dragmode='zoom',  # Habilita zoom rectangular\n",
    "#     xaxis_rangeslider_visible=False,\n",
    "#     template=\"plotly_dark\",  # Estilo oscuro como TradingView\n",
    "#     autosize=True,\n",
    "#     height=700\n",
    "# )\n",
    "\n",
    "# fig.show()\n"
   ]
  },
  {
   "cell_type": "code",
   "execution_count": null,
   "id": "31829fa0",
   "metadata": {},
   "outputs": [
    {
     "name": "stdout",
     "output_type": "stream",
     "text": [
      "                  sma50        sma200  signal_sma     RSI_14  signal_rsi  \\\n",
      "timestamp                                                                  \n",
      "2015-10-29    248.69318    248.225356         1.0  80.313999          -1   \n",
      "2019-04-23   4488.54200   4477.598500         1.0  75.003797          -1   \n",
      "2023-10-30  28362.78000  28247.445000         1.0  81.888991          -1   \n",
      "\n",
      "            SIGNALS  \n",
      "timestamp            \n",
      "2015-10-29     -4.0  \n",
      "2019-04-23     -4.0  \n",
      "2023-10-30     -4.0  \n"
     ]
    }
   ],
   "source": [
    "import pandas_ta  as ta\n",
    "from indicators import IndicatorsWeather\n",
    "\n",
    "indicator = ta.AnalysisIndicators(ohlcv_df)\n",
    "indicators_list = indicator.indicators(as_list=True)\n",
    "#indicators = {}\n",
    "#for indicator in indicators_list:\n",
    "#    indicators[indicator] = {}\n",
    "#weights = [1,2,3,1,2,3,1,2,3,1,2,3,1,2,3,1,2,3,1,2]\n",
    "\n",
    "strategy = IndicatorsWeather(ohlcv_df)\n",
    "indicators = {\n",
    "    (\"sma\",\"sma\") : [{\"length\" :50},{\"length\":200}],\n",
    "    \"rsi\": {\"length\" :14},\n",
    "}\n",
    "calculated_indicators = strategy.calculate_indicators(indicators)\n",
    "weights = [3,7]\n",
    "types = [\"cruce\",\"umbral\"]\n",
    "parameters = [{\"fast\":\"sma50\",\"slow\":\"sma200\"},{\"lower\":30,\"upper\":70,\"activator\":calculated_indicators[\"rsi\"]},{}]\n",
    "\n",
    "\n",
    "signals, debug = strategy.generate_signals(calculated_indicators,weights,types,parameters)\n",
    "print(debug[(debug[\"signal_sma\"] != 0) & (debug[\"signal_rsi\"] != 0)])"
   ]
  },
  {
   "cell_type": "markdown",
   "id": "96c8b1bb",
   "metadata": {},
   "source": []
  },
  {
   "cell_type": "code",
   "execution_count": null,
   "id": "5c667f53",
   "metadata": {},
   "outputs": [],
   "source": [
    "import pandas_ta  as ta\n",
    "import inspect\n",
    "def visible_functions(module):\n",
    "    return [name for name, obj in inspect.getmembers(module) if inspect.isfunction(obj) and obj.__module__ == module.__name__]\n",
    "trend = visible_functions(ta.overlap)\n",
    "print(trend)\n"
   ]
  }
 ],
 "metadata": {
  "kernelspec": {
   "display_name": "Python 3",
   "language": "python",
   "name": "python3"
  },
  "language_info": {
   "codemirror_mode": {
    "name": "ipython",
    "version": 3
   },
   "file_extension": ".py",
   "mimetype": "text/x-python",
   "name": "python",
   "nbconvert_exporter": "python",
   "pygments_lexer": "ipython3",
   "version": "3.13.4"
  }
 },
 "nbformat": 4,
 "nbformat_minor": 5
}
